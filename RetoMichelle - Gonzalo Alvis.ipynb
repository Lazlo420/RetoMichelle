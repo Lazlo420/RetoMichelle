{
 "cells": [
  {
   "cell_type": "markdown",
   "metadata": {},
   "source": [
    "### Gonzalo Alvis\n",
    "\n",
    "Usar urbanpy para descargar datos de una ciudad "
   ]
  },
  {
   "cell_type": "markdown",
   "metadata": {},
   "source": [
    "### Librerias\n",
    "\n",
    "- urbanpy\n",
    "- plotly\n",
    "- geopandas"
   ]
  },
  {
   "cell_type": "code",
   "execution_count": null,
   "metadata": {},
   "outputs": [],
   "source": [
    "import warnings\n",
    "import sys\n",
    "import urbanpy as up\n",
    "import pandas as pd\n",
    "import plotly\n",
    "import plotly.express as px\n",
    "import matplotlib.pyplot as plt\n",
    "from mpl_toolkits.axes_grid1 import make_axes_locatable\n",
    "from tqdm.notebook import tqdm\n",
    "\n",
    "sys.path.append(\"..\")\n",
    "warnings.filterwarnings(\"ignore\") \n",
    "tqdm.pandas()"
   ]
  },
  {
   "cell_type": "markdown",
   "metadata": {},
   "source": [
    "### Mapa"
   ]
  },
  {
   "cell_type": "code",
   "execution_count": null,
   "metadata": {},
   "outputs": [],
   "source": [
    "ciudad = up.download.nominatim_osm(\n",
    "    \"Barcelona, España\"\n",
    ")  # expected_position is 0 by default"
   ]
  },
  {
   "cell_type": "code",
   "execution_count": null,
   "metadata": {},
   "outputs": [],
   "source": [
    "ciudad.plot()\n",
    "\n",
    "plt.show()"
   ]
  },
  {
   "cell_type": "markdown",
   "metadata": {},
   "source": [
    "### population data"
   ]
  },
  {
   "cell_type": "code",
   "execution_count": null,
   "metadata": {},
   "outputs": [],
   "source": [
    "city_resources=up.download.search_hdx_dataset(\"Spain\")\n",
    "city_resources"
   ]
  },
  {
   "cell_type": "code",
   "execution_count": null,
   "metadata": {},
   "outputs": [],
   "source": [
    "pop_spn=up.download.get_hdx_dataset(city_resources,0)\n",
    "pop_spn.head()"
   ]
  },
  {
   "cell_type": "markdown",
   "metadata": {},
   "source": [
    "### Conversion a puntos y hexagonos"
   ]
  },
  {
   "cell_type": "code",
   "execution_count": null,
   "metadata": {},
   "outputs": [],
   "source": [
    "pop_ba=up.geom.filter_population(pop_spn,ciudad)"
   ]
  },
  {
   "cell_type": "code",
   "execution_count": null,
   "metadata": {},
   "outputs": [],
   "source": [
    "pop_ba.plot()"
   ]
  },
  {
   "cell_type": "code",
   "execution_count": null,
   "metadata": {},
   "outputs": [],
   "source": [
    "hex_ba=up.geom.gen_hexagons(resolution=9,city=ciudad)\n",
    "hex_ba.shape"
   ]
  },
  {
   "cell_type": "markdown",
   "metadata": {},
   "source": [
    "### Mergeando layers"
   ]
  },
  {
   "cell_type": "code",
   "execution_count": null,
   "metadata": {},
   "outputs": [],
   "source": [
    "pop_ba.head()"
   ]
  },
  {
   "cell_type": "code",
   "execution_count": null,
   "metadata": {},
   "outputs": [],
   "source": [
    "hex_ba=up.geom.merge_shape_hex(hex_ba,pop_ba,agg={\"esp_general_2020\":\"sum\"})"
   ]
  },
  {
   "cell_type": "code",
   "execution_count": null,
   "metadata": {},
   "outputs": [],
   "source": [
    "hex_ba.plot(\n",
    "    \"esp_general_2020\", legend=True, missing_kwds={\"color\": \"grey\"}\n",
    ")\n",
    "plt.title(\"Barcelona - H3 res: 9\")\n",
    "plt.axis(False)\n",
    "plt.tight_layout()"
   ]
  },
  {
   "cell_type": "code",
   "execution_count": null,
   "metadata": {},
   "outputs": [],
   "source": [
    "fs, metadata = up.download.overpass(\n",
    "    type_of_data=\"node\",\n",
    "    mask=ciudad,\n",
    "    query={\n",
    "        \"amenity\": [\"marketplace\"],\n",
    "        \"shop\": [\n",
    "            \"supermarket\",\n",
    "            \"kiosk\",\n",
    "            \"mall\",\n",
    "            \"convenience\",\n",
    "            \"butcher\",\n",
    "            \"greengrocer\",\n",
    "        ],\n",
    "    },\n",
    ")"
   ]
  },
  {
   "cell_type": "code",
   "execution_count": null,
   "metadata": {},
   "outputs": [],
   "source": [
    "fs.shape"
   ]
  },
  {
   "cell_type": "code",
   "execution_count": null,
   "metadata": {},
   "outputs": [],
   "source": [
    "up.routing.start_osrm_server(\"spain\", \"europe\", \"foot\")"
   ]
  },
  {
   "cell_type": "code",
   "execution_count": null,
   "metadata": {},
   "outputs": [],
   "source": [
    "hex_barcelona_access = up.accessibility.travel_times(hex_ba, fs, \"food_facility\")\n",
    "hex_barcelona_access.head()"
   ]
  },
  {
   "cell_type": "code",
   "execution_count": null,
   "metadata": {},
   "outputs": [],
   "source": [
    "up.routing.stop_osrm_server(\"spain\", \"europe\", \"foot\")"
   ]
  },
  {
   "cell_type": "markdown",
   "metadata": {},
   "source": [
    "### Interactive map"
   ]
  },
  {
   "cell_type": "code",
   "execution_count": null,
   "metadata": {},
   "outputs": [],
   "source": [
    "plotly.offline.init_notebook_mode()"
   ]
  },
  {
   "cell_type": "code",
   "execution_count": null,
   "metadata": {},
   "outputs": [],
   "source": [
    "fig = up.plotting.choropleth_map(\n",
    "    hex_ba,\n",
    "    \"esp_general_2020\",\n",
    "    title=\"Estimated Population - 2020\",\n",
    "    width=400,\n",
    "    height=400,\n",
    ")\n",
    "\n",
    "# Make space for the title\n",
    "fig.update_layout(margin=dict(l=0, r=0, b=0))\n",
    "\n",
    "fig.show()"
   ]
  },
  {
   "cell_type": "code",
   "execution_count": null,
   "metadata": {},
   "outputs": [],
   "source": [
    "# Get ordered category labels\n",
    "category_orders = (\n",
    "    hex_barcelona_access[\"duration_to_nearest_food_facility_label\"].unique().sort_values()\n",
    ")\n",
    "category_orders.categories"
   ]
  },
  {
   "cell_type": "code",
   "execution_count": null,
   "metadata": {},
   "outputs": [],
   "source": [
    "hex_barcelona_access_filtered_pop = hex_barcelona_access.query(\n",
    "    \"esp_general_2020 > 0\"\n",
    ").reset_index(drop=True)"
   ]
  },
  {
   "cell_type": "code",
   "execution_count": null,
   "metadata": {},
   "outputs": [],
   "source": [
    "fig = up.plotting.choropleth_map(\n",
    "    hex_barcelona_access_filtered_pop,\n",
    "    color_column=\"duration_to_nearest_food_facility_label\",\n",
    "    color_discrete_sequence=px.colors.sequential.Plasma_r,\n",
    "    category_orders={\"duration_to_nearest_food_facility_label\": category_orders},\n",
    "    labels={\"duration_to_nearest_food_facility_label\": \"Minutes\"},\n",
    "    title=\"Travel Time to Nearest Food Facility\",\n",
    "    width=400,\n",
    "    height=400,\n",
    ")\n",
    "\n",
    "# Make space for the title\n",
    "fig.update_layout(margin=dict(l=0, r=0, b=0))\n",
    "\n",
    "# Remove the hexagon outlines to make the map clearer\n",
    "fig.update_traces(marker_line_width=0)\n",
    "\n",
    "fig.show()"
   ]
  }
 ],
 "metadata": {
  "kernelspec": {
   "display_name": "RetoMichelle",
   "language": "python",
   "name": "python3"
  },
  "language_info": {
   "codemirror_mode": {
    "name": "ipython",
    "version": 3
   },
   "file_extension": ".py",
   "mimetype": "text/x-python",
   "name": "python",
   "nbconvert_exporter": "python",
   "pygments_lexer": "ipython3",
   "version": "3.12.0"
  }
 },
 "nbformat": 4,
 "nbformat_minor": 2
}
